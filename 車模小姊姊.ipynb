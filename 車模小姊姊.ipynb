{
  "cells": [
    {
      "cell_type": "code",
      "execution_count": 1,
      "metadata": {
        "colab": {
          "base_uri": "https://localhost:8080/"
        },
        "id": "LOIgfZa9Xdfa",
        "outputId": "dc98b5ac-d5eb-4dce-b15c-e9ba84e20f57"
      },
      "outputs": [
        {
          "name": "stdout",
          "output_type": "stream",
          "text": [
            "/drive/ngrok-ssh\n",
            "--2022-12-29 15:45:15--  https://bin.equinox.io/c/4VmDzA7iaHb/ngrok-stable-linux-amd64.zip\n",
            "Resolving bin.equinox.io (bin.equinox.io)... 18.205.222.128, 54.237.133.81, 54.161.241.46, ...\n",
            "Connecting to bin.equinox.io (bin.equinox.io)|18.205.222.128|:443... connected.\n",
            "HTTP request sent, awaiting response... 200 OK\n",
            "Length: 13832437 (13M) [application/octet-stream]\n",
            "Saving to: ‘ngrok-stable-linux-amd64.zip’\n",
            "\n",
            "ngrok-stable-linux- 100%[===================>]  13.19M  --.-KB/s    in 0.1s    \n",
            "\n",
            "2022-12-29 15:45:16 (102 MB/s) - ‘ngrok-stable-linux-amd64.zip’ saved [13832437/13832437]\n",
            "\n",
            "Archive:  ngrok-stable-linux-amd64.zip\n"
          ]
        }
      ],
      "source": [
        "!mkdir -p /drive/ngrok-ssh\n",
        "%cd /drive/ngrok-ssh\n",
        "!wget https://bin.equinox.io/c/4VmDzA7iaHb/ngrok-stable-linux-amd64.zip -O ngrok-stable-linux-amd64.zip\n",
        "!unzip -u ngrok-stable-linux-amd64.zip\n",
        "!cp /drive/ngrok-ssh/ngrok /ngrok\n",
        "!chmod +x /ngrok"
      ]
    },
    {
      "cell_type": "code",
      "execution_count": 2,
      "metadata": {
        "colab": {
          "base_uri": "https://localhost:8080/"
        },
        "id": "9-WNVh4wZIk2",
        "outputId": "2e4bc356-27d4-453c-cd56-8a3dbc6f0422"
      },
      "outputs": [
        {
          "name": "stdout",
          "output_type": "stream",
          "text": [
            "Authtoken saved to configuration file: /root/.ngrok2/ngrok.yml\n"
          ]
        }
      ],
      "source": [
        "!/ngrok authtoken 2HhuvFCdaGTp6lQIJhj6N3rbGyg_4LK4Tsv72PsmMCwvzRAra"
      ]
    },
    {
      "cell_type": "code",
      "execution_count": 3,
      "metadata": {
        "colab": {
          "base_uri": "https://localhost:8080/"
        },
        "id": "O5OJ-2OhQcTU",
        "outputId": "037e0a5a-12a4-4b04-fb00-baedc46e1aa1"
      },
      "outputs": [
        {
          "name": "stdout",
          "output_type": "stream",
          "text": [
            "Looking in indexes: https://pypi.org/simple, https://us-python.pkg.dev/colab-wheels/public/simple/\n",
            "Requirement already satisfied: flask_ngrok in /usr/local/lib/python3.8/dist-packages (0.0.25)\n",
            "Requirement already satisfied: requests in /usr/local/lib/python3.8/dist-packages (from flask_ngrok) (2.23.0)\n",
            "Requirement already satisfied: Flask>=0.8 in /usr/local/lib/python3.8/dist-packages (from flask_ngrok) (1.1.4)\n",
            "Requirement already satisfied: itsdangerous<2.0,>=0.24 in /usr/local/lib/python3.8/dist-packages (from Flask>=0.8->flask_ngrok) (1.1.0)\n",
            "Requirement already satisfied: Jinja2<3.0,>=2.10.1 in /usr/local/lib/python3.8/dist-packages (from Flask>=0.8->flask_ngrok) (2.11.3)\n",
            "Requirement already satisfied: Werkzeug<2.0,>=0.15 in /usr/local/lib/python3.8/dist-packages (from Flask>=0.8->flask_ngrok) (1.0.1)\n",
            "Requirement already satisfied: click<8.0,>=5.1 in /usr/local/lib/python3.8/dist-packages (from Flask>=0.8->flask_ngrok) (7.1.2)\n",
            "Requirement already satisfied: MarkupSafe>=0.23 in /usr/local/lib/python3.8/dist-packages (from Jinja2<3.0,>=2.10.1->Flask>=0.8->flask_ngrok) (2.0.1)\n",
            "Requirement already satisfied: urllib3!=1.25.0,!=1.25.1,<1.26,>=1.21.1 in /usr/local/lib/python3.8/dist-packages (from requests->flask_ngrok) (1.24.3)\n",
            "Requirement already satisfied: certifi>=2017.4.17 in /usr/local/lib/python3.8/dist-packages (from requests->flask_ngrok) (2022.12.7)\n",
            "Requirement already satisfied: chardet<4,>=3.0.2 in /usr/local/lib/python3.8/dist-packages (from requests->flask_ngrok) (3.0.4)\n",
            "Requirement already satisfied: idna<3,>=2.5 in /usr/local/lib/python3.8/dist-packages (from requests->flask_ngrok) (2.10)\n",
            "Looking in indexes: https://pypi.org/simple, https://us-python.pkg.dev/colab-wheels/public/simple/\n",
            "Requirement already satisfied: line-bot-sdk in /usr/local/lib/python3.8/dist-packages (2.3.0)\n",
            "Requirement already satisfied: aiohttp>=3.7.4 in /usr/local/lib/python3.8/dist-packages (from line-bot-sdk) (3.8.3)\n",
            "Requirement already satisfied: requests>=2.0 in /usr/local/lib/python3.8/dist-packages (from line-bot-sdk) (2.23.0)\n",
            "Requirement already satisfied: future in /usr/local/lib/python3.8/dist-packages (from line-bot-sdk) (0.16.0)\n",
            "Requirement already satisfied: multidict<7.0,>=4.5 in /usr/local/lib/python3.8/dist-packages (from aiohttp>=3.7.4->line-bot-sdk) (6.0.3)\n",
            "Requirement already satisfied: charset-normalizer<3.0,>=2.0 in /usr/local/lib/python3.8/dist-packages (from aiohttp>=3.7.4->line-bot-sdk) (2.1.1)\n",
            "Requirement already satisfied: async-timeout<5.0,>=4.0.0a3 in /usr/local/lib/python3.8/dist-packages (from aiohttp>=3.7.4->line-bot-sdk) (4.0.2)\n",
            "Requirement already satisfied: frozenlist>=1.1.1 in /usr/local/lib/python3.8/dist-packages (from aiohttp>=3.7.4->line-bot-sdk) (1.3.3)\n",
            "Requirement already satisfied: yarl<2.0,>=1.0 in /usr/local/lib/python3.8/dist-packages (from aiohttp>=3.7.4->line-bot-sdk) (1.8.2)\n",
            "Requirement already satisfied: aiosignal>=1.1.2 in /usr/local/lib/python3.8/dist-packages (from aiohttp>=3.7.4->line-bot-sdk) (1.3.1)\n",
            "Requirement already satisfied: attrs>=17.3.0 in /usr/local/lib/python3.8/dist-packages (from aiohttp>=3.7.4->line-bot-sdk) (22.1.0)\n",
            "Requirement already satisfied: urllib3!=1.25.0,!=1.25.1,<1.26,>=1.21.1 in /usr/local/lib/python3.8/dist-packages (from requests>=2.0->line-bot-sdk) (1.24.3)\n",
            "Requirement already satisfied: certifi>=2017.4.17 in /usr/local/lib/python3.8/dist-packages (from requests>=2.0->line-bot-sdk) (2022.12.7)\n",
            "Requirement already satisfied: idna<3,>=2.5 in /usr/local/lib/python3.8/dist-packages (from requests>=2.0->line-bot-sdk) (2.10)\n",
            "Requirement already satisfied: chardet<4,>=3.0.2 in /usr/local/lib/python3.8/dist-packages (from requests>=2.0->line-bot-sdk) (3.0.4)\n"
          ]
        }
      ],
      "source": [
        "!pip install flask_ngrok\n",
        "!pip install line-bot-sdk"
      ]
    },
    {
      "cell_type": "code",
      "execution_count": 4,
      "metadata": {
        "colab": {
          "base_uri": "https://localhost:8080/"
        },
        "id": "yYKZ-1RuKJ-_",
        "outputId": "9d7704c7-7dc7-4f7c-81d8-bc233894354d"
      },
      "outputs": [
        {
          "name": "stdout",
          "output_type": "stream",
          "text": [
            "Looking in indexes: https://pypi.org/simple, https://us-python.pkg.dev/colab-wheels/public/simple/\n",
            "Requirement already satisfied: openai in /usr/local/lib/python3.8/dist-packages (0.25.0)\n",
            "Requirement already satisfied: requests>=2.20 in /usr/local/lib/python3.8/dist-packages (from openai) (2.23.0)\n",
            "Requirement already satisfied: openpyxl>=3.0.7 in /usr/local/lib/python3.8/dist-packages (from openai) (3.0.10)\n",
            "Requirement already satisfied: pandas>=1.2.3 in /usr/local/lib/python3.8/dist-packages (from openai) (1.3.5)\n",
            "Requirement already satisfied: typing-extensions in /usr/local/lib/python3.8/dist-packages (from openai) (4.4.0)\n",
            "Requirement already satisfied: pandas-stubs>=1.1.0.11 in /usr/local/lib/python3.8/dist-packages (from openai) (1.5.2.221213)\n",
            "Requirement already satisfied: numpy in /usr/local/lib/python3.8/dist-packages (from openai) (1.21.6)\n",
            "Requirement already satisfied: tqdm in /usr/local/lib/python3.8/dist-packages (from openai) (4.64.1)\n",
            "Requirement already satisfied: et-xmlfile in /usr/local/lib/python3.8/dist-packages (from openpyxl>=3.0.7->openai) (1.1.0)\n",
            "Requirement already satisfied: python-dateutil>=2.7.3 in /usr/local/lib/python3.8/dist-packages (from pandas>=1.2.3->openai) (2.8.2)\n",
            "Requirement already satisfied: pytz>=2017.3 in /usr/local/lib/python3.8/dist-packages (from pandas>=1.2.3->openai) (2022.6)\n",
            "Requirement already satisfied: types-pytz>=2022.1.1 in /usr/local/lib/python3.8/dist-packages (from pandas-stubs>=1.1.0.11->openai) (2022.7.0.0)\n",
            "Requirement already satisfied: six>=1.5 in /usr/local/lib/python3.8/dist-packages (from python-dateutil>=2.7.3->pandas>=1.2.3->openai) (1.15.0)\n",
            "Requirement already satisfied: chardet<4,>=3.0.2 in /usr/local/lib/python3.8/dist-packages (from requests>=2.20->openai) (3.0.4)\n",
            "Requirement already satisfied: idna<3,>=2.5 in /usr/local/lib/python3.8/dist-packages (from requests>=2.20->openai) (2.10)\n",
            "Requirement already satisfied: certifi>=2017.4.17 in /usr/local/lib/python3.8/dist-packages (from requests>=2.20->openai) (2022.12.7)\n",
            "Requirement already satisfied: urllib3!=1.25.0,!=1.25.1,<1.26,>=1.21.1 in /usr/local/lib/python3.8/dist-packages (from requests>=2.20->openai) (1.24.3)\n"
          ]
        }
      ],
      "source": [
        "!pip install openai"
      ]
    },
    {
      "cell_type": "code",
      "execution_count": 5,
      "metadata": {
        "id": "gwH6kgZoT-Yj"
      },
      "outputs": [],
      "source": [
        "import pandas as pd\n",
        "data = pd.read_csv(\"車輛資料（最終成果）.csv\",encoding=\"utf-8\")"
      ]
    },
    {
      "cell_type": "code",
      "execution_count": 6,
      "metadata": {
        "id": "l7rKP2r0R8yh"
      },
      "outputs": [],
      "source": [
        "\n",
        "data.loc[[6,1086,1087,1154,1155,1156,1157],\"價格\"] = 0"
      ]
    },
    {
      "cell_type": "code",
      "execution_count": 7,
      "metadata": {
        "id": "4skriBRWUDo-"
      },
      "outputs": [],
      "source": [
        "data[\"價格\"] = data[\"價格\"].astype(\"float64\")*10000\n",
        "data = data.drop([6,1086,1087,1154,1155,1156,1157])"
      ]
    },
    {
      "cell_type": "code",
      "execution_count": 8,
      "metadata": {
        "id": "7XjT1mWLDeu0"
      },
      "outputs": [],
      "source": [
        "import requests\n",
        "from bs4 import BeautifulSoup\n",
        "\n",
        "def news(brand):\n",
        "  url = \"https://tw.news.yahoo.com/search?p=\"+brand+\"&fr=news&fr2=p%3Anews%2Cm%3Asb\"\n",
        "  req = requests.get(url)\n",
        "  soup = BeautifulSoup(req.text, \"html.parser\")\n",
        "  url = \"https://tw.news.yahoo.com\" + soup.select(\".Mb(5px) .Fw(b)\")[0][\"href\"]\n",
        "  return url\n",
        "\n",
        "def bonus():\n",
        "  url = \"https://yes-news.com/yespick/401494/%E5%A5%BD%E4%B9%85%E6%B2%92%E8%B7%9F%E5%A4%A7%E5%AE%B6%E5%88%86%E4%BA%AB%E5%AD%B8%E7%94%9F%E5%A6%B9%E5%AD%90%E5%95%A6%E4%BB%8A%E5%A4%A9%E9%80%99%E4%BD%8D%E6%98%AF%E5%B0%B1%E8%AE%80%E8%BC%94%E4%BB%81%E5%A4%A7%E5%AD%B8%E6%9C%83%E8%A8%88%E7%B3%BB%E7%9A%84%E6%AD%A3%E5%A6%B9%E4%BD%99%E5%AE%B6%E5%84%80\"\n",
        "  req = requests.get(url)\n",
        "  soup = BeautifulSoup(req.text, \"html.parser\")\n",
        "  img = random.choice(soup.select(\"p img\"))[\"src\"]\n",
        "  return img"
      ]
    },
    {
      "cell_type": "code",
      "execution_count": null,
      "metadata": {
        "colab": {
          "base_uri": "https://localhost:8080/"
        },
        "id": "dcz1L-h1YTBo",
        "outputId": "d236a3cf-7275-4f97-8d81-17e38019e803"
      },
      "outputs": [],
      "source": [
        "from flask import Flask, request\n",
        "import requests, json, time\n",
        "from flask_ngrok import run_with_ngrok\n",
        "import openai\n",
        "import requests\n",
        "from bs4 import BeautifulSoup\n",
        "import random\n",
        "app = Flask(__name__)\n",
        "\n",
        "@app.route(\"/\")\n",
        "def home():\n",
        "    return \"<h1>hello world</h1>\"\n",
        "\n",
        "@app.route('/webhook', methods=['POST'])\n",
        "def webhook():\n",
        "    req = request.get_json()\n",
        "    print(req)\n",
        "    queryText = req['queryResult'][\"queryText\"]\n",
        "    reText = req['queryResult']['fulfillmentText']          # 取得 Dialogflow 的回應文字\n",
        "    intent = req['queryResult']['intent']['displayName']    # 取得 intent 分類\n",
        "    replytoken = req['originalDetectIntentRequest']['payload']['data']['replyToken']  # 取得 LINE replyToken\n",
        "    token = 'YOUR_YOKEN'\n",
        "\n",
        "    # 如果收到的 intent 是看車\n",
        "    if intent == '看車':   \n",
        "      if req['queryResult'][\"parameters\"][\"energy\"] and req['queryResult'][\"parameters\"][\"number\"] and req['queryResult'][\"parameters\"][\"brand\"]:\n",
        "\n",
        "          brand = req['queryResult'][\"parameters\"][\"brand\"][0]\n",
        "          price = req['queryResult'][\"parameters\"][\"number\"][0]\n",
        "          energy = req['queryResult'][\"parameters\"][\"energy\"][0]\n",
        "\n",
        "          if not price:\n",
        "            price = 5000000000000000\n",
        "          \n",
        "          #價錢區間\n",
        "          if len(req['queryResult'][\"parameters\"][\"number\"]) == 2:\n",
        "            price = req['queryResult'][\"parameters\"][\"number\"][1]\n",
        "          #價錢以上\n",
        "          if req['queryResult'][\"parameters\"][\"up\"]:\n",
        "            if energy == \"不拘\"  and brand != \"不拘\":\n",
        "              query = data[data[\"車\"].str.contains(brand)][data[\"價格\"] >= price]\n",
        "            \n",
        "            elif energy != \"不拘\"  and brand == \"不拘\":\n",
        "              query = data[data[\"動力來源\"].str.contains(energy)][data[\"價格\"] >= price]\n",
        "            \n",
        "            elif energy == \"不拘\"  and brand == \"不拘\":\n",
        "              query = data[data[\"價格\"] >= price]  \n",
        "            else:\n",
        "              query = data[data[\"車\"].str.contains(brand)][data[\"動力來源\"].str.contains(energy)][data[\"價格\"] >= price]\n",
        "          else:          \n",
        "          #正常查詢              \n",
        "            if energy == \"不拘\"  and brand != \"不拘\":\n",
        "              query = data[data[\"車\"].str.contains(brand)][data[\"價格\"] <= price]\n",
        "              \n",
        "            elif energy != \"不拘\"  and brand == \"不拘\":\n",
        "              query = data[data[\"動力來源\"].str.contains(energy)][data[\"價格\"] <= price]\n",
        "              \n",
        "            elif energy == \"不拘\"  and brand == \"不拘\":\n",
        "              query = data[data[\"價格\"] <= price]\n",
        "\n",
        "            else:\n",
        "              query = data[data[\"車\"].str.contains(brand)][data[\"動力來源\"].str.contains(energy)][data[\"價格\"] <= price]\n",
        "\n",
        "          #有茶道 \n",
        "          try:\n",
        "            if req['queryResult'][\"parameters\"][\"up\"]:\n",
        "              car = query.sort_values(\"價格\",ascending=[True]).head(1)\n",
        "            else:\n",
        "              car = query.sort_values(\"價格\",ascending=[False]).head(1)\n",
        "            a = \"車款: \" + car[\"車\"].values[0]\n",
        "            b = \"版本: \" + car[\"版本\"].values[0]\n",
        "            c = \"動力來源: \" + car[\"動力來源\"].values[0]\n",
        "            d = \"特色: \" + car[\"特色\"].values[0]\n",
        "            e = \"價格: \" + str(car[\"價格\"].values[0])\n",
        "              \n",
        "            url = car[\"網址\"].values[0]\n",
        "            img = car[\"照片網址\"].values[0]\n",
        "\n",
        "            text = a + \"\\n\" + b + \"\\n\" + c + \"\\n\" + d+ \"\\n\" + e\n",
        "            \n",
        "            \n",
        "            headers = {'Authorization':'Bearer ' + token,'Content-Type':'application/json'}\n",
        "            body = {\n",
        "                    'replyToken':replytoken,\n",
        "                    'messages':[\n",
        "                          \n",
        "                          {\n",
        "                            \"type\": \"text\",\n",
        "                            \"text\": text\n",
        "                          },\n",
        "                          {\n",
        "                              \"type\":\"image\",\n",
        "                              'originalContentUrl': img,\n",
        "                              'previewImageUrl': img\n",
        "                          },\n",
        "                          {\n",
        "                              \"type\":\"text\",\n",
        "                              \"text\":url\n",
        "                          },\n",
        "                          {\n",
        "                              \"type\":\"text\",\n",
        "                              \"text\":\"寶貝我很厲害吧~快誇獎我💕\"\n",
        "                          },\n",
        "                          {\n",
        "                              \"type\":\"text\",\n",
        "                              \"text\":reText + \"💕\"\n",
        "                          }\n",
        "                        \n",
        "                        ]\n",
        "                      \n",
        "                    }\n",
        "                # 使用 requests 方法回傳訊息到 ＬINE\n",
        "            result = requests.request('POST', 'https://api.line.me/v2/bot/message/reply',headers=headers,data=json.dumps(body).encode('utf-8'))\n",
        "            print(result.text)\n",
        "                # 完成後回傳訊息到 Dialogflow\n",
        "            return {\n",
        "                    \n",
        "                    \"source\": \"webhookdata\"\n",
        "              }\n",
        "          #沒查到\n",
        "          except:\n",
        "            headers = {'Authorization':'Bearer ' + token,'Content-Type':'application/json'}\n",
        "            body = {\n",
        "                    'replyToken':replytoken,\n",
        "                    \n",
        "                    \n",
        "                    'messages':[\n",
        "                          \n",
        "                          {\n",
        "                            \"type\": \"text\",\n",
        "                            \"text\": \"寶貝台灣最近好像沒這種車，要不要找找其他的呢💕\"\n",
        "                          }\n",
        "                        \n",
        "                        ]\n",
        "                    }\n",
        "                # 使用 requests 方法回傳訊息到 ＬINE\n",
        "            result = requests.request('POST', 'https://api.line.me/v2/bot/message/reply',headers=headers,data=json.dumps(body).encode('utf-8'))\n",
        "            print(result.text)\n",
        "                # 完成後回傳訊息到 Dialogflow\n",
        "            return {\n",
        "                    \n",
        "                    \"source\": \"webhookdata\"\n",
        "              }              \n",
        "    if intent == \"看新聞\":\n",
        "      brand = req['queryResult'][\"parameters\"][\"brand\"]\n",
        "      if brand == \"不拘\":\n",
        "        brand = random.choice(\"\"\"Alfa-Romeo Aston-Martin Audi Bentley BMW Bugatti Buick Cadillac Chery Chrysler Citroen Daihatsu Ferrari Fiat Ford Honda Hyundai Infiniti Jaguar Jeep Kia Lamborghini Land-Rover\n",
        "                      Lexus Lotus Luxgen M-Benz Mahindra Maserati Mazda McLaren MG Mini Mitsubishi Morgan Nissan Opel Peugeot Porsche Proton Renault Rolls-Royce \n",
        "                      Saab Skoda Smart Ssangyong Subaru Suzuki \n",
        "                      Tesla Tobe Toyota Volkswagen Volvo \"\"\".split())\n",
        "\n",
        "      url = news(brand)\n",
        "    \n",
        "      return {\n",
        "            \"fulfillmentText\": url\n",
        "        }\n",
        "        \n",
        "    #例外處理\n",
        "    if intent == \"Default Fallback Intent\":\n",
        "        #抽抽小姐姐\n",
        "        if queryText == \"抽\":\n",
        "          headers = {'Authorization':'Bearer ' + token,'Content-Type':'application/json'}\n",
        "          img = bonus()\n",
        "          body = {\n",
        "                    'replyToken':replytoken,\n",
        "                    'messages':[\n",
        "                          \n",
        "                          \n",
        "                          {\n",
        "                              \"type\":\"image\",\n",
        "                              'originalContentUrl': img,\n",
        "                              'previewImageUrl': img\n",
        "                          }\n",
        "                        \n",
        "                        ],\n",
        "                      \n",
        "                    }\n",
        "                \n",
        "          result = requests.request('POST', 'https://api.line.me/v2/bot/message/reply',headers=headers,data=json.dumps(body).encode('utf-8'))\n",
        "          \n",
        "                \n",
        "          return {\n",
        "                    \n",
        "                    \"source\": \"webhookdata\"\n",
        "              }\n",
        "        #gpt3\n",
        "        else:\n",
        "          \n",
        "          openai.api_key = \"OPEN_AI_API_KEY\"\n",
        "          response = openai.Completion.create(\n",
        "            model=\"text-davinci-003\",\n",
        "            prompt=queryText,\n",
        "            temperature=0.9,\n",
        "            max_tokens=150,\n",
        "            top_p=1,\n",
        "            frequency_penalty=0.0,\n",
        "            presence_penalty=0.6,\n",
        "            stop=[\" Human:\", \" AI:\"]\n",
        "          )\n",
        "          \n",
        "          response = response[\"choices\"][0][\"text\"].replace('\\n', '').replace(\"您\",\"寶貝\").replace(\"你\",\"寶貝\")\n",
        "          if \"。\" in response:\n",
        "            response = response.split(\"。\")[0]\n",
        "          return {\n",
        "              \"fulfillmentText\": response\n",
        "          }\n",
        "\n",
        "run_with_ngrok(app)     # 啟用 ngrok\n",
        "app.run()"
      ]
    }
  ],
  "metadata": {
    "colab": {
      "provenance": []
    },
    "kernelspec": {
      "display_name": "Python 3",
      "name": "python3"
    },
    "language_info": {
      "name": "python"
    }
  },
  "nbformat": 4,
  "nbformat_minor": 0
}
